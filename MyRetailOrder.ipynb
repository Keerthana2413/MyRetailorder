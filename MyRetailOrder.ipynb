{
 "cells": [
  {
   "cell_type": "code",
   "execution_count": 1,
   "id": "3fddf9f9-f834-4393-a977-4affceaee5bd",
   "metadata": {},
   "outputs": [
    {
     "name": "stdout",
     "output_type": "stream",
     "text": [
      "Requirement already satisfied: kaggle in c:\\users\\surya\\anaconda3\\lib\\site-packages (1.6.17)\n",
      "Requirement already satisfied: six>=1.10 in c:\\users\\surya\\anaconda3\\lib\\site-packages (from kaggle) (1.16.0)\n",
      "Requirement already satisfied: certifi>=2023.7.22 in c:\\users\\surya\\anaconda3\\lib\\site-packages (from kaggle) (2024.12.14)\n",
      "Requirement already satisfied: python-dateutil in c:\\users\\surya\\anaconda3\\lib\\site-packages (from kaggle) (2.9.0.post0)\n",
      "Requirement already satisfied: requests in c:\\users\\surya\\anaconda3\\lib\\site-packages (from kaggle) (2.32.3)\n",
      "Requirement already satisfied: tqdm in c:\\users\\surya\\anaconda3\\lib\\site-packages (from kaggle) (4.66.5)\n",
      "Requirement already satisfied: python-slugify in c:\\users\\surya\\anaconda3\\lib\\site-packages (from kaggle) (5.0.2)\n",
      "Requirement already satisfied: urllib3 in c:\\users\\surya\\anaconda3\\lib\\site-packages (from kaggle) (2.2.3)\n",
      "Requirement already satisfied: bleach in c:\\users\\surya\\anaconda3\\lib\\site-packages (from kaggle) (4.1.0)\n",
      "Requirement already satisfied: packaging in c:\\users\\surya\\anaconda3\\lib\\site-packages (from bleach->kaggle) (24.1)\n",
      "Requirement already satisfied: webencodings in c:\\users\\surya\\anaconda3\\lib\\site-packages (from bleach->kaggle) (0.5.1)\n",
      "Requirement already satisfied: text-unidecode>=1.3 in c:\\users\\surya\\anaconda3\\lib\\site-packages (from python-slugify->kaggle) (1.3)\n",
      "Requirement already satisfied: charset-normalizer<4,>=2 in c:\\users\\surya\\anaconda3\\lib\\site-packages (from requests->kaggle) (3.3.2)\n",
      "Requirement already satisfied: idna<4,>=2.5 in c:\\users\\surya\\anaconda3\\lib\\site-packages (from requests->kaggle) (3.7)\n",
      "Requirement already satisfied: colorama in c:\\users\\surya\\anaconda3\\lib\\site-packages (from tqdm->kaggle) (0.4.6)\n",
      "Note: you may need to restart the kernel to use updated packages.\n"
     ]
    }
   ],
   "source": [
    "pip install kaggle"
   ]
  },
  {
   "cell_type": "code",
   "execution_count": 3,
   "id": "2a42e54f-882f-422a-93f8-f36c27565ff4",
   "metadata": {},
   "outputs": [],
   "source": [
    "import kaggle"
   ]
  },
  {
   "cell_type": "code",
   "execution_count": 5,
   "id": "6b44f62a-408d-4fce-8a8d-9ea75799877c",
   "metadata": {},
   "outputs": [
    {
     "name": "stdout",
     "output_type": "stream",
     "text": [
      "Dataset URL: https://www.kaggle.com/datasets/ankitbansal06/retail-orders\n",
      "License(s): CC0-1.0\n",
      "orders.csv.zip: Skipping, found more recently modified local copy (use --force to force download)\n"
     ]
    }
   ],
   "source": [
    "!kaggle datasets download ankitbansal06/retail-orders -f orders.csv"
   ]
  },
  {
   "cell_type": "code",
   "execution_count": 9,
   "id": "ac50ae74-0b6c-4b3d-afcd-fe08a13c0b01",
   "metadata": {},
   "outputs": [],
   "source": [
    "#to extract zipfile\n",
    "import pandas as pd\n",
    "import zipfile\n",
    "from io import BytesIO"
   ]
  },
  {
   "cell_type": "code",
   "execution_count": 15,
   "id": "3aafe24c-6529-45ff-a23d-e42bcddba3f4",
   "metadata": {},
   "outputs": [],
   "source": [
    "df=pd.read_csv(r\"C:\\Users\\SURYA\\orders.csv.zip\", compression=\"zip\")\n",
    "df.rename(columns={'Order Id': 'order_id' , 'Order Date':'order_date' , 'Ship Mode':'ship_mode' , 'Segment':'segment', 'Country' : 'country' ,'City':'city' ,'State':'state' ,'Postal Code':'postal_code','Region':'region','Category':'category','Sub Category':'sub_category','Product Id':'product_id','cost price':'cost_price' ,'List Price':'list_price','Quantity':'quantity','Discount Percent':'discount_percent'},inplace=True)"
   ]
  },
  {
   "cell_type": "code",
   "execution_count": 17,
   "id": "9ad36b7a-3a10-419e-adfa-08eac127f360",
   "metadata": {},
   "outputs": [],
   "source": [
    "df.fillna({'ship_mode': 0 },inplace= True)"
   ]
  },
  {
   "cell_type": "code",
   "execution_count": 19,
   "id": "5c50bb89-f9e9-4756-88a5-aeec39e903eb",
   "metadata": {},
   "outputs": [
    {
     "data": {
      "text/plain": [
       "order_id            0\n",
       "order_date          0\n",
       "ship_mode           0\n",
       "segment             0\n",
       "country             0\n",
       "city                0\n",
       "state               0\n",
       "postal_code         0\n",
       "region              0\n",
       "category            0\n",
       "sub_category        0\n",
       "product_id          0\n",
       "cost_price          0\n",
       "list_price          0\n",
       "quantity            0\n",
       "discount_percent    0\n",
       "dtype: int64"
      ]
     },
     "execution_count": 19,
     "metadata": {},
     "output_type": "execute_result"
    }
   ],
   "source": [
    "df.isnull().sum()"
   ]
  },
  {
   "cell_type": "code",
   "execution_count": 21,
   "id": "0c2abcf5-0e29-4493-bfbd-7a8a940f7e87",
   "metadata": {},
   "outputs": [
    {
     "data": {
      "text/html": [
       "<div>\n",
       "<style scoped>\n",
       "    .dataframe tbody tr th:only-of-type {\n",
       "        vertical-align: middle;\n",
       "    }\n",
       "\n",
       "    .dataframe tbody tr th {\n",
       "        vertical-align: top;\n",
       "    }\n",
       "\n",
       "    .dataframe thead th {\n",
       "        text-align: right;\n",
       "    }\n",
       "</style>\n",
       "<table border=\"1\" class=\"dataframe\">\n",
       "  <thead>\n",
       "    <tr style=\"text-align: right;\">\n",
       "      <th></th>\n",
       "      <th>order_id</th>\n",
       "      <th>order_date</th>\n",
       "      <th>ship_mode</th>\n",
       "      <th>segment</th>\n",
       "      <th>country</th>\n",
       "      <th>city</th>\n",
       "      <th>state</th>\n",
       "      <th>postal_code</th>\n",
       "      <th>region</th>\n",
       "      <th>category</th>\n",
       "      <th>sub_category</th>\n",
       "      <th>product_id</th>\n",
       "      <th>cost_price</th>\n",
       "      <th>list_price</th>\n",
       "      <th>quantity</th>\n",
       "      <th>discount_percent</th>\n",
       "    </tr>\n",
       "  </thead>\n",
       "  <tbody>\n",
       "    <tr>\n",
       "      <th>8984</th>\n",
       "      <td>8985</td>\n",
       "      <td>2023-10-05</td>\n",
       "      <td>Standard Class</td>\n",
       "      <td>Consumer</td>\n",
       "      <td>United States</td>\n",
       "      <td>Chicago</td>\n",
       "      <td>Illinois</td>\n",
       "      <td>60623</td>\n",
       "      <td>Central</td>\n",
       "      <td>Furniture</td>\n",
       "      <td>Tables</td>\n",
       "      <td>FUR-TA-10000849</td>\n",
       "      <td>130</td>\n",
       "      <td>150</td>\n",
       "      <td>2</td>\n",
       "      <td>3</td>\n",
       "    </tr>\n",
       "  </tbody>\n",
       "</table>\n",
       "</div>"
      ],
      "text/plain": [
       "      order_id  order_date       ship_mode   segment        country     city  \\\n",
       "8984      8985  2023-10-05  Standard Class  Consumer  United States  Chicago   \n",
       "\n",
       "         state  postal_code   region   category sub_category       product_id  \\\n",
       "8984  Illinois        60623  Central  Furniture       Tables  FUR-TA-10000849   \n",
       "\n",
       "      cost_price  list_price  quantity  discount_percent  \n",
       "8984         130         150         2                 3  "
      ]
     },
     "execution_count": 21,
     "metadata": {},
     "output_type": "execute_result"
    }
   ],
   "source": [
    "df.sample()"
   ]
  },
  {
   "cell_type": "code",
   "execution_count": 23,
   "id": "8f50a7e7-1fe2-45fe-bc97-d049727f0963",
   "metadata": {},
   "outputs": [],
   "source": [
    "df['discount']=df['list_price']*df['discount_percent']*.01\n",
    "df['sale_price']=df['list_price']-df['discount']\n",
    "df['profit']=df['sale_price']-df['cost_price']"
   ]
  },
  {
   "cell_type": "code",
   "execution_count": 25,
   "id": "a37ee60d-e4b0-478c-a369-ea12fd295e90",
   "metadata": {},
   "outputs": [],
   "source": [
    "order1 = df[['order_id','order_date','ship_mode','segment','country','city','state','postal_code','region','category']]"
   ]
  },
  {
   "cell_type": "code",
   "execution_count": 27,
   "id": "8220c06e-7b8e-4e8b-b374-8f7e42d3ceb4",
   "metadata": {},
   "outputs": [],
   "source": [
    "order2= df[['order_id','sub_category','product_id','cost_price','list_price','quantity','discount_percent','discount','sale_price','profit']]"
   ]
  },
  {
   "cell_type": "code",
   "execution_count": 29,
   "id": "613661ac-2931-4391-8b1d-9ceca48bb956",
   "metadata": {},
   "outputs": [
    {
     "name": "stdout",
     "output_type": "stream",
     "text": [
      "<class 'pandas.core.frame.DataFrame'>\n",
      "RangeIndex: 9994 entries, 0 to 9993\n",
      "Data columns (total 10 columns):\n",
      " #   Column       Non-Null Count  Dtype \n",
      "---  ------       --------------  ----- \n",
      " 0   order_id     9994 non-null   int64 \n",
      " 1   order_date   9994 non-null   object\n",
      " 2   ship_mode    9994 non-null   object\n",
      " 3   segment      9994 non-null   object\n",
      " 4   country      9994 non-null   object\n",
      " 5   city         9994 non-null   object\n",
      " 6   state        9994 non-null   object\n",
      " 7   postal_code  9994 non-null   int64 \n",
      " 8   region       9994 non-null   object\n",
      " 9   category     9994 non-null   object\n",
      "dtypes: int64(2), object(8)\n",
      "memory usage: 780.9+ KB\n"
     ]
    }
   ],
   "source": [
    "order1.info()"
   ]
  },
  {
   "cell_type": "code",
   "execution_count": 31,
   "id": "7007b794-1261-466e-9445-68421af2da79",
   "metadata": {},
   "outputs": [
    {
     "name": "stdout",
     "output_type": "stream",
     "text": [
      "<class 'pandas.core.frame.DataFrame'>\n",
      "RangeIndex: 9994 entries, 0 to 9993\n",
      "Data columns (total 19 columns):\n",
      " #   Column            Non-Null Count  Dtype  \n",
      "---  ------            --------------  -----  \n",
      " 0   order_id          9994 non-null   int64  \n",
      " 1   order_date        9994 non-null   object \n",
      " 2   ship_mode         9994 non-null   object \n",
      " 3   segment           9994 non-null   object \n",
      " 4   country           9994 non-null   object \n",
      " 5   city              9994 non-null   object \n",
      " 6   state             9994 non-null   object \n",
      " 7   postal_code       9994 non-null   int64  \n",
      " 8   region            9994 non-null   object \n",
      " 9   category          9994 non-null   object \n",
      " 10  sub_category      9994 non-null   object \n",
      " 11  product_id        9994 non-null   object \n",
      " 12  cost_price        9994 non-null   int64  \n",
      " 13  list_price        9994 non-null   int64  \n",
      " 14  quantity          9994 non-null   int64  \n",
      " 15  discount_percent  9994 non-null   int64  \n",
      " 16  discount          9994 non-null   float64\n",
      " 17  sale_price        9994 non-null   float64\n",
      " 18  profit            9994 non-null   float64\n",
      "dtypes: float64(3), int64(6), object(10)\n",
      "memory usage: 1.4+ MB\n"
     ]
    }
   ],
   "source": [
    "df.info()"
   ]
  },
  {
   "cell_type": "code",
   "execution_count": 33,
   "id": "05a7dc52-d1a3-40d9-a2a6-971147fedb85",
   "metadata": {},
   "outputs": [
    {
     "data": {
      "text/plain": [
       "0"
      ]
     },
     "execution_count": 33,
     "metadata": {},
     "output_type": "execute_result"
    }
   ],
   "source": [
    "df.isnull().sum().sum()"
   ]
  },
  {
   "cell_type": "code",
   "execution_count": 35,
   "id": "a1c8e5ab-37d9-432e-88a3-3eac0ef2806d",
   "metadata": {},
   "outputs": [
    {
     "data": {
      "text/plain": [
       "order_id            0\n",
       "order_date          0\n",
       "ship_mode           0\n",
       "segment             0\n",
       "country             0\n",
       "city                0\n",
       "state               0\n",
       "postal_code         0\n",
       "region              0\n",
       "category            0\n",
       "sub_category        0\n",
       "product_id          0\n",
       "cost_price          0\n",
       "list_price          0\n",
       "quantity            0\n",
       "discount_percent    0\n",
       "discount            0\n",
       "sale_price          0\n",
       "profit              0\n",
       "dtype: int64"
      ]
     },
     "execution_count": 35,
     "metadata": {},
     "output_type": "execute_result"
    }
   ],
   "source": [
    "df.isnull().sum()"
   ]
  },
  {
   "cell_type": "code",
   "execution_count": 37,
   "id": "aa0818dd-e13a-4bf2-8467-8244a68b75e6",
   "metadata": {},
   "outputs": [
    {
     "name": "stdout",
     "output_type": "stream",
     "text": [
      "Collecting mysql-connector-python\n",
      "  Downloading mysql_connector_python-9.1.0-cp312-cp312-win_amd64.whl.metadata (6.2 kB)\n",
      "Downloading mysql_connector_python-9.1.0-cp312-cp312-win_amd64.whl (16.1 MB)\n",
      "   ---------------------------------------- 0.0/16.1 MB ? eta -:--:--\n",
      "   - -------------------------------------- 0.5/16.1 MB 2.8 MB/s eta 0:00:06\n",
      "   -- ------------------------------------- 1.0/16.1 MB 2.6 MB/s eta 0:00:06\n",
      "   --- ------------------------------------ 1.6/16.1 MB 2.7 MB/s eta 0:00:06\n",
      "   ----- ---------------------------------- 2.1/16.1 MB 2.8 MB/s eta 0:00:05\n",
      "   ------ --------------------------------- 2.6/16.1 MB 2.7 MB/s eta 0:00:05\n",
      "   -------- ------------------------------- 3.4/16.1 MB 2.7 MB/s eta 0:00:05\n",
      "   --------- ------------------------------ 3.9/16.1 MB 2.7 MB/s eta 0:00:05\n",
      "   ----------- ---------------------------- 4.5/16.1 MB 2.7 MB/s eta 0:00:05\n",
      "   ------------ --------------------------- 5.0/16.1 MB 2.7 MB/s eta 0:00:05\n",
      "   ------------- -------------------------- 5.5/16.1 MB 2.6 MB/s eta 0:00:04\n",
      "   --------------- ------------------------ 6.0/16.1 MB 2.6 MB/s eta 0:00:04\n",
      "   ---------------- ----------------------- 6.6/16.1 MB 2.6 MB/s eta 0:00:04\n",
      "   ----------------- ---------------------- 7.1/16.1 MB 2.6 MB/s eta 0:00:04\n",
      "   ------------------ --------------------- 7.6/16.1 MB 2.6 MB/s eta 0:00:04\n",
      "   -------------------- ------------------- 8.1/16.1 MB 2.6 MB/s eta 0:00:04\n",
      "   --------------------- ------------------ 8.7/16.1 MB 2.6 MB/s eta 0:00:03\n",
      "   ---------------------- ----------------- 9.2/16.1 MB 2.6 MB/s eta 0:00:03\n",
      "   ------------------------ --------------- 10.0/16.1 MB 2.6 MB/s eta 0:00:03\n",
      "   ------------------------- -------------- 10.2/16.1 MB 2.6 MB/s eta 0:00:03\n",
      "   -------------------------- ------------- 10.7/16.1 MB 2.6 MB/s eta 0:00:03\n",
      "   ---------------------------- ----------- 11.5/16.1 MB 2.6 MB/s eta 0:00:02\n",
      "   ------------------------------ --------- 12.1/16.1 MB 2.6 MB/s eta 0:00:02\n",
      "   ------------------------------- -------- 12.6/16.1 MB 2.6 MB/s eta 0:00:02\n",
      "   -------------------------------- ------- 13.1/16.1 MB 2.6 MB/s eta 0:00:02\n",
      "   --------------------------------- ------ 13.6/16.1 MB 2.6 MB/s eta 0:00:01\n",
      "   ----------------------------------- ---- 14.2/16.1 MB 2.6 MB/s eta 0:00:01\n",
      "   ------------------------------------- -- 14.9/16.1 MB 2.6 MB/s eta 0:00:01\n",
      "   -------------------------------------- - 15.5/16.1 MB 2.6 MB/s eta 0:00:01\n",
      "   ---------------------------------------  16.0/16.1 MB 2.6 MB/s eta 0:00:01\n",
      "   ---------------------------------------- 16.1/16.1 MB 2.5 MB/s eta 0:00:00\n",
      "Installing collected packages: mysql-connector-python\n",
      "Successfully installed mysql-connector-python-9.1.0\n"
     ]
    }
   ],
   "source": [
    "!pip install mysql-connector-python"
   ]
  },
  {
   "cell_type": "code",
   "execution_count": 41,
   "id": "4bcecf91-7a41-42b3-8f82-38d22b1f3838",
   "metadata": {},
   "outputs": [],
   "source": [
    "import mysql.connector\n",
    "myretail=mysql.connector.connect(host='localhost',user='root',password = 'root')\n",
    "mycursor=myretail.cursor()"
   ]
  },
  {
   "cell_type": "code",
   "execution_count": 43,
   "id": "0316fe5f-4157-43e6-8a38-4c24a166e6ad",
   "metadata": {},
   "outputs": [],
   "source": [
    "mycursor.execute(\"use My_retail_order\")"
   ]
  },
  {
   "cell_type": "code",
   "execution_count": 45,
   "id": "15fad187-7378-48fe-be8f-3c5757781564",
   "metadata": {},
   "outputs": [
    {
     "name": "stdout",
     "output_type": "stream",
     "text": [
      "<class 'pandas.core.frame.DataFrame'>\n",
      "RangeIndex: 9994 entries, 0 to 9993\n",
      "Data columns (total 10 columns):\n",
      " #   Column       Non-Null Count  Dtype \n",
      "---  ------       --------------  ----- \n",
      " 0   order_id     9994 non-null   int64 \n",
      " 1   order_date   9994 non-null   object\n",
      " 2   ship_mode    9994 non-null   object\n",
      " 3   segment      9994 non-null   object\n",
      " 4   country      9994 non-null   object\n",
      " 5   city         9994 non-null   object\n",
      " 6   state        9994 non-null   object\n",
      " 7   postal_code  9994 non-null   int64 \n",
      " 8   region       9994 non-null   object\n",
      " 9   category     9994 non-null   object\n",
      "dtypes: int64(2), object(8)\n",
      "memory usage: 780.9+ KB\n"
     ]
    }
   ],
   "source": [
    "order1.info()"
   ]
  },
  {
   "cell_type": "code",
   "execution_count": 47,
   "id": "cb829332-4b8c-4aa4-b011-d66f86a15ca1",
   "metadata": {},
   "outputs": [],
   "source": [
    "mycursor.execute(\"create table retailorder1 (order_id int,order_date varchar(20),ship_mode varchar(20),segment varchar(20),country varchar(20),city varchar(20),state varchar(30),postal_code int,region varchar(20),category varchar(20))\")"
   ]
  },
  {
   "cell_type": "code",
   "execution_count": 49,
   "id": "84353531-ea38-43b7-b440-2eb3acb0ef45",
   "metadata": {},
   "outputs": [
    {
     "name": "stdout",
     "output_type": "stream",
     "text": [
      "('retailorder1',)\n"
     ]
    }
   ],
   "source": [
    "mycursor.execute ('show tables')\n",
    "for i in mycursor:\n",
    "    print(i)"
   ]
  },
  {
   "cell_type": "code",
   "execution_count": 51,
   "id": "259ec1b5-b09a-49ea-a68a-1802c49fab94",
   "metadata": {},
   "outputs": [],
   "source": [
    "mycursor.execute(\"alter table retailorder1 modify order_id int primary key\")"
   ]
  },
  {
   "cell_type": "code",
   "execution_count": 53,
   "id": "0957a857-e2ac-47cb-888e-fedbb1b3e9f6",
   "metadata": {},
   "outputs": [],
   "source": [
    "mycursor.execute(\"create table retailorders2 (order_id int primary key,sub_category varchar(50),product_id char(50),cost_price int,list_price int,quantity int,discount_percent int,discount float,sale_price float,profit float)\")"
   ]
  },
  {
   "cell_type": "code",
   "execution_count": 55,
   "id": "c990c639-61e9-415e-ab64-fc02fdbc1232",
   "metadata": {},
   "outputs": [
    {
     "name": "stdout",
     "output_type": "stream",
     "text": [
      "('retailorder1',)\n",
      "('retailorders2',)\n"
     ]
    }
   ],
   "source": [
    "mycursor.execute ('show tables')\n",
    "for i in mycursor:\n",
    "    print(i)"
   ]
  },
  {
   "cell_type": "code",
   "execution_count": 59,
   "id": "b44b9a3e-3849-45e5-81af-665900816f60",
   "metadata": {},
   "outputs": [],
   "source": [
    "mycursor.execute(\"alter table retailorders2 add CONSTRAINT fr_key FOREIGN KEY (order_id) REFERENCES retailorder1(order_id)\")"
   ]
  },
  {
   "cell_type": "code",
   "execution_count": 61,
   "id": "d2064f49-14f7-4e68-9ab8-e54d8a05495e",
   "metadata": {},
   "outputs": [],
   "source": [
    "sql1 = \"insert into retailorder1(order_id,order_date,ship_mode,segment,country,city,state,postal_code,region,category)values(%s,%s,%s,%s,%s,%s,%s,%s,%s,%s)\""
   ]
  },
  {
   "cell_type": "code",
   "execution_count": 63,
   "id": "a22276aa-096a-41ae-a101-5edb9917786b",
   "metadata": {},
   "outputs": [],
   "source": [
    "variable1= order1.values.tolist()"
   ]
  },
  {
   "cell_type": "code",
   "execution_count": 65,
   "id": "2d8522b0-dacc-4cc6-8280-d9e08920c2c7",
   "metadata": {},
   "outputs": [],
   "source": [
    "for i in variable1:\n",
    "    mycursor.execute(sql1,i)\n",
    "myretail.commit()"
   ]
  },
  {
   "cell_type": "code",
   "execution_count": 66,
   "id": "b9002df8-ac03-4f0c-8ef2-b8a2aca3013b",
   "metadata": {},
   "outputs": [],
   "source": [
    "sql2 = \"insert into retailorders2(order_id,sub_category,product_id,cost_price,list_price,quantity,discount_percent,discount,sale_price,profit)values(%s,%s,%s,%s,%s,%s,%s,%s,%s,%s)\"\n",
    "variable2= order2.values.tolist()"
   ]
  },
  {
   "cell_type": "code",
   "execution_count": 67,
   "id": "a857e4c3-cc36-4fd3-9d52-e714c6524d51",
   "metadata": {},
   "outputs": [],
   "source": [
    "for i in variable2:\n",
    "    mycursor.execute(sql2,i)\n",
    "myretail.commit()"
   ]
  },
  {
   "cell_type": "code",
   "execution_count": 68,
   "id": "cbabce86-3863-468a-b1cd-0e4c3f97dc81",
   "metadata": {},
   "outputs": [],
   "source": [
    "mycursor.execute(\"alter table retailorders2 add CONSTRAINT FOREIGN KEY (order_id) REFERENCES retailorder1(order_id)\")"
   ]
  },
  {
   "cell_type": "code",
   "execution_count": 69,
   "id": "6519d99d-09e8-4e6a-a897-3c6d3312f57d",
   "metadata": {},
   "outputs": [
    {
     "name": "stdout",
     "output_type": "stream",
     "text": [
      "('TEC-CO-10004722', 245056.0)\n",
      "('OFF-BI-10000545', 163777.6997680664)\n",
      "('TEC-MA-10002412', 130406.40234375)\n",
      "('FUR-CH-10002024', 120090.69921875)\n",
      "('TEC-PH-10001459', 113041.90002441406)\n",
      "('TEC-CO-10001449', 107387.99938964844)\n",
      "('OFF-BI-10003527', 97082.90008544922)\n",
      "('TEC-MA-10000822', 89622.30053710938)\n",
      "('FUR-BO-10002213', 84014.80038452148)\n",
      "('TEC-MA-10001047', 81549.0)\n"
     ]
    }
   ],
   "source": [
    "mycursor.execute(\"select product_id, sum(sale_price*quantity) as Highestrevenue from retailorders2 group by product_id order by Highestrevenue DESC LIMIT 10\")\n",
    "myretail=mycursor.fetchall()\n",
    "for x in myretail:\n",
    "    print(x)"
   ]
  },
  {
   "cell_type": "code",
   "execution_count": null,
   "id": "9986b2e2-6bbe-4a98-ab53-b5aa06949d81",
   "metadata": {},
   "outputs": [],
   "source": []
  }
 ],
 "metadata": {
  "kernelspec": {
   "display_name": "Python [conda env:base] *",
   "language": "python",
   "name": "conda-base-py"
  },
  "language_info": {
   "codemirror_mode": {
    "name": "ipython",
    "version": 3
   },
   "file_extension": ".py",
   "mimetype": "text/x-python",
   "name": "python",
   "nbconvert_exporter": "python",
   "pygments_lexer": "ipython3",
   "version": "3.12.7"
  }
 },
 "nbformat": 4,
 "nbformat_minor": 5
}
